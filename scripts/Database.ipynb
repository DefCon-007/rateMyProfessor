{
 "cells": [
  {
   "cell_type": "code",
   "execution_count": 1,
   "metadata": {},
   "outputs": [],
   "source": [
    "import json\n",
    "import requests\n",
    "from pprint import pprint\n",
    "from bs4 import BeautifulSoup as bs"
   ]
  },
  {
   "cell_type": "code",
   "execution_count": 17,
   "metadata": {},
   "outputs": [],
   "source": [
    "from webview.models import Professor, Subject\n",
    "from django.conf import settings"
   ]
  },
  {
   "cell_type": "code",
   "execution_count": 40,
   "metadata": {},
   "outputs": [],
   "source": [
    "#Adding Faculty to database \n",
    "def getFacultyList()  :\n",
    "    \"\"\"\n",
    "    Retruns list of dicts : \n",
    "    Same DICT : \n",
    "        {'department': 'Aerospace Engineering',\n",
    "         'dept_code': 'AE',\n",
    "         'designation': 'Assistant Professor',\n",
    "         'encrypt_key': 'ae-ap',\n",
    "         'faculty': '<a href=\"department/AE/faculty/ae-ap\">Akshay Prakash</a>'}\n",
    "    \"\"\"\n",
    "    \n",
    "    url = \"http://www.iitkgp.ac.in/facultylist\"\n",
    "\n",
    "    querystring = {\"processOn\":\"onload\",\"colName\":\"\",\"searchContent\":\"\",\"_\":\"1546070278570\"}\n",
    "\n",
    "    headers = {\n",
    "        'Cookie': \"_ga=GA1.3.1618811768.1543517854; JSESSIONID=0830812A57CAE824DAB209654E57B4EE\",\n",
    "        'Accept-Encoding': \"gzip, deflate\",\n",
    "        'Accept-Language': \"en-IN,en-US;q=0.9,en;q=0.8\",\n",
    "        'User-Agent': \"Mozilla/5.0 (Macintosh; Intel Mac OS X 10_14_1) AppleWebKit/537.36 (KHTML, like Gecko) Chrome/71.0.3578.98 Safari/537.36\",\n",
    "        'Accept': \"application/json, text/javascript, */*; q=0.01\",\n",
    "        'Referer': \"http://www.iitkgp.ac.in/faclistbydepartment\",\n",
    "        'X-Requested-With': \"XMLHttpRequest\",\n",
    "        'Connection': \"keep-alive\",\n",
    "        'cache-control': \"no-cache\",\n",
    "        'Postman-Token': \"6be29381-c68c-40f6-a10d-e63045691718\"\n",
    "        }\n",
    "\n",
    "    response = requests.request(\"GET\", url, headers=headers, params=querystring)\n",
    "\n",
    "    return json.loads(response.text)[\"data\"]\n",
    "\n",
    "def getFacultyUrl(data) : \n",
    "    \"\"\"\n",
    "    Return faculty name, url \n",
    "    Sample Argument : '<a href=\"department/AE/faculty/ae-ap\">Akshay Prakash</a>'\n",
    "    \"\"\"\n",
    "    BASE_URL = \"http://www.iitkgp.ac.in/\"\n",
    "    soup = bs(data)\n",
    "    tag = soup.find(\"a\")\n",
    "    name = tag.text\n",
    "    url = BASE_URL + tag[\"href\"]\n",
    "    return name, url\n",
    "\n",
    "\n",
    "def addFaculty(name, depCode, url, designation) : \n",
    "    data = Professor() \n",
    "    data.name = name\n",
    "    data.departmentCode = depCode\n",
    "    data.website = url\n",
    "    data.designation = designation \n",
    "    data.save()"
   ]
  },
  {
   "cell_type": "code",
   "execution_count": 38,
   "metadata": {},
   "outputs": [],
   "source": [
    "facList = getFacultyList()\n",
    "FacultyDepartmentDict = dict() #This dictionary keeps the mapping of dep code to department name of "
   ]
  },
  {
   "cell_type": "code",
   "execution_count": 41,
   "metadata": {},
   "outputs": [],
   "source": [
    "for faculty in facList : \n",
    "    name, url = getFacultyUrl(faculty[\"faculty\"])\n",
    "    FacultyDepartmentDict[faculty[\"dept_code\"]] = faculty[\"department\"]\n",
    "    addFaculty(name, faculty[\"dept_code\"], url, faculty[\"designation\"])"
   ]
  },
  {
   "cell_type": "code",
   "execution_count": null,
   "metadata": {},
   "outputs": [],
   "source": []
  },
  {
   "cell_type": "code",
   "execution_count": 2,
   "metadata": {},
   "outputs": [],
   "source": [
    "def addSubject(subCode, subName, credits) : \n",
    "    data = Subject()\n",
    "    data.code = subCode\n",
    "    data.name = subName \n",
    "    data.credits = credits\n",
    "    data.save()"
   ]
  },
  {
   "cell_type": "code",
   "execution_count": 5,
   "metadata": {},
   "outputs": [],
   "source": [
    "#Adding subjects\n",
    "with open(\"/Volumes/Data/CODE/test/rateMyProf/result.json\", \"r\") as f : \n",
    "    \"\"\"\n",
    "    Format : \n",
    "        'AE21001': ['INTRODUCTION TO AERODYNAMICS', '4'],\n",
    "        Sub_CODE : [SUB NAME, Credits]\n",
    "    \"\"\"\n",
    "    subjectList = json.loads(f.read())"
   ]
  },
  {
   "cell_type": "code",
   "execution_count": 6,
   "metadata": {},
   "outputs": [],
   "source": [
    "for subCode, li in subjectList.items() : \n",
    "    addSubject(subCode, li[0], int(li[1]))"
   ]
  },
  {
   "cell_type": "code",
   "execution_count": 3,
   "metadata": {},
   "outputs": [],
   "source": [
    "asd = Subject.objects.all()"
   ]
  },
  {
   "cell_type": "code",
   "execution_count": 4,
   "metadata": {},
   "outputs": [],
   "source": [
    "a = set()"
   ]
  },
  {
   "cell_type": "code",
   "execution_count": 5,
   "metadata": {},
   "outputs": [],
   "source": [
    "for t in asd : \n",
    "    a.add(t.code[0:2])"
   ]
  },
  {
   "cell_type": "code",
   "execution_count": 6,
   "metadata": {},
   "outputs": [
    {
     "name": "stdout",
     "output_type": "stream",
     "text": [
      "{'AE',\n",
      " 'AG',\n",
      " 'AR',\n",
      " 'AT',\n",
      " 'BM',\n",
      " 'BS',\n",
      " 'BT',\n",
      " 'CE',\n",
      " 'CH',\n",
      " 'CR',\n",
      " 'CS',\n",
      " 'CY',\n",
      " 'EA',\n",
      " 'EC',\n",
      " 'EE',\n",
      " 'EG',\n",
      " 'EP',\n",
      " 'ES',\n",
      " 'ET',\n",
      " 'EV',\n",
      " 'EX',\n",
      " 'FP',\n",
      " 'GG',\n",
      " 'HS',\n",
      " 'ID',\n",
      " 'IE',\n",
      " 'IM',\n",
      " 'IP',\n",
      " 'IT',\n",
      " 'MA',\n",
      " 'ME',\n",
      " 'MF',\n",
      " 'MI',\n",
      " 'MM',\n",
      " 'MS',\n",
      " 'MT',\n",
      " 'NA',\n",
      " 'NT',\n",
      " 'PH',\n",
      " 'QE',\n",
      " 'QM',\n",
      " 'RE',\n",
      " 'RT',\n",
      " 'TE',\n",
      " 'TS',\n",
      " 'WM'}\n"
     ]
    }
   ],
   "source": [
    "pprint(a\n",
    "     )"
   ]
  },
  {
   "cell_type": "code",
   "execution_count": 22,
   "metadata": {},
   "outputs": [
    {
     "name": "stdout",
     "output_type": "stream",
     "text": [
      "{'Advanced Technology Development Centre': 'AT',\n",
      " 'Aerospace Engineering': 'AE',\n",
      " 'Agricultural and Food Engineering': 'AG',\n",
      " 'Architecture and Regional Planning': 'AR',\n",
      " 'Bio Science': 'BS',\n",
      " 'Biotechnology': 'BT',\n",
      " 'Centre For Educational Technology': 'ET',\n",
      " 'Centre For Oceans,Rivers,Atmosphere and Land Science': 'CL',\n",
      " 'Centre for Computational and Data Sciences': 'CD',\n",
      " 'Chemical Engineering': 'CH',\n",
      " 'Chemistry': 'CY',\n",
      " 'Civil Engineering': 'CE',\n",
      " 'Computer Science and Engineering': 'CS',\n",
      " 'Cryogenic  Engineering': 'CR',\n",
      " 'Deysarkar Centre of Excellence in Petroleum Engineering': 'DE',\n",
      " 'Electrical Engineering': 'EE',\n",
      " 'Electronics and Electrical Communication Engg.': 'EC',\n",
      " 'Energy Science and Engineering': 'ES',\n",
      " 'Environmental Science and Engineering': 'EF',\n",
      " 'G.S Sanyal School of Telecommunication': 'GS',\n",
      " 'Geology and Geophysics': 'GG',\n",
      " 'Humanities and Social Sciences': 'HS',\n",
      " 'Industrial and Systems Engineering': 'IM',\n",
      " 'Materials Science Centre': 'MS',\n",
      " 'Mathematics': 'MA',\n",
      " 'Mechanical Engineering': 'ME',\n",
      " 'Metallurgical and Materials Engineering': 'MT',\n",
      " 'Mining Engineering': 'MI',\n",
      " 'Ocean Engg and Naval Architecture': 'NA',\n",
      " 'Physics': 'PH',\n",
      " 'Rajendra Mishra School of Engg Entrepreneurship': 'RJ',\n",
      " 'Rajiv Gandhi School of Intellectual Property Law': 'IP',\n",
      " 'Ranbir and Chitra Gupta School of Infrastructure Design and Mngt.': 'ID',\n",
      " 'Rekhi Centre of Excellence for the Science of Happiness': 'RX',\n",
      " 'Rubber Technology': 'RT',\n",
      " 'Rural Development': 'RD',\n",
      " 'School of Medical Science and Technology': 'MM',\n",
      " 'School of Water Resources': 'WM',\n",
      " 'Subir Chowdhury School of Quality and Reliability': 'RE',\n",
      " 'Vinod Gupta School of Management': 'BM'}\n"
     ]
    }
   ],
   "source": [
    "d = {}\n",
    "for key, val in settings.FACULTY_DEPARTMENT_DICT.items()  : \n",
    "    d[val] = key\n",
    "pprint(d)"
   ]
  },
  {
   "cell_type": "code",
   "execution_count": 20,
   "metadata": {},
   "outputs": [
    {
     "name": "stdout",
     "output_type": "stream",
     "text": [
      "1\n",
      "<QuerySet [<Subject: AG40009 - CAD AND SIMULATION OF AGRICULTURAL MACHINERY>]>\n"
     ]
    }
   ],
   "source": [
    "def getSubjectFromCode(code) : \n",
    "    try : \n",
    "        sub = Subject.objects.filter(code=code)\n",
    "        print(len(sub))\n",
    "        print(str(sub))\n",
    "    except  : \n",
    "        print(1)\n",
    "getSubjectFromCode(\"AG40009\")"
   ]
  },
  {
   "cell_type": "code",
   "execution_count": 27,
   "metadata": {},
   "outputs": [],
   "source": [
    "def getProfessor(name,depCode) : \n",
    "    try : \n",
    "        prof = Professor.objects.filter(name=name, departmentCode=depCode) \n",
    "        print(prof)\n",
    "        if len(prof) == 1 : \n",
    "            print(str(prof[0]))\n",
    "    except : \n",
    "        pass"
   ]
  },
  {
   "cell_type": "code",
   "execution_count": 29,
   "metadata": {},
   "outputs": [
    {
     "name": "stdout",
     "output_type": "stream",
     "text": [
      "<QuerySet [<Professor: Professor object (41efe305-8f3f-408f-a912-69ed8db47b89)>]>\n",
      "Professor object (41efe305-8f3f-408f-a912-69ed8db47b89)\n"
     ]
    }
   ],
   "source": [
    "getProfessor(\"Amardip Ghosh\", \"AE\")"
   ]
  },
  {
   "cell_type": "code",
   "execution_count": null,
   "metadata": {},
   "outputs": [],
   "source": []
  }
 ],
 "metadata": {
  "kernelspec": {
   "display_name": "Django Shell-Plus",
   "language": "python",
   "name": "django_extensions"
  },
  "language_info": {
   "codemirror_mode": {
    "name": "ipython",
    "version": 3
   },
   "file_extension": ".py",
   "mimetype": "text/x-python",
   "name": "python",
   "nbconvert_exporter": "python",
   "pygments_lexer": "ipython3",
   "version": "3.7.0"
  }
 },
 "nbformat": 4,
 "nbformat_minor": 2
}
