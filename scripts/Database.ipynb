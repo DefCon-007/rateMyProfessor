{
 "cells": [
  {
   "cell_type": "code",
   "execution_count": 4,
   "metadata": {},
   "outputs": [],
   "source": [
    "import json\n",
    "import requests\n",
    "from pprint import pprint\n",
    "from bs4 import BeautifulSoup as bs"
   ]
  },
  {
   "cell_type": "code",
   "execution_count": 1,
   "metadata": {},
   "outputs": [],
   "source": [
    "from webview.models import Professor, Subject"
   ]
  },
  {
   "cell_type": "code",
   "execution_count": 40,
   "metadata": {},
   "outputs": [],
   "source": [
    "#Adding Faculty to database \n",
    "def getFacultyList()  :\n",
    "    \"\"\"\n",
    "    Retruns list of dicts : \n",
    "    Same DICT : \n",
    "        {'department': 'Aerospace Engineering',\n",
    "         'dept_code': 'AE',\n",
    "         'designation': 'Assistant Professor',\n",
    "         'encrypt_key': 'ae-ap',\n",
    "         'faculty': '<a href=\"department/AE/faculty/ae-ap\">Akshay Prakash</a>'}\n",
    "    \"\"\"\n",
    "    \n",
    "    url = \"http://www.iitkgp.ac.in/facultylist\"\n",
    "\n",
    "    querystring = {\"processOn\":\"onload\",\"colName\":\"\",\"searchContent\":\"\",\"_\":\"1546070278570\"}\n",
    "\n",
    "    headers = {\n",
    "        'Cookie': \"_ga=GA1.3.1618811768.1543517854; JSESSIONID=0830812A57CAE824DAB209654E57B4EE\",\n",
    "        'Accept-Encoding': \"gzip, deflate\",\n",
    "        'Accept-Language': \"en-IN,en-US;q=0.9,en;q=0.8\",\n",
    "        'User-Agent': \"Mozilla/5.0 (Macintosh; Intel Mac OS X 10_14_1) AppleWebKit/537.36 (KHTML, like Gecko) Chrome/71.0.3578.98 Safari/537.36\",\n",
    "        'Accept': \"application/json, text/javascript, */*; q=0.01\",\n",
    "        'Referer': \"http://www.iitkgp.ac.in/faclistbydepartment\",\n",
    "        'X-Requested-With': \"XMLHttpRequest\",\n",
    "        'Connection': \"keep-alive\",\n",
    "        'cache-control': \"no-cache\",\n",
    "        'Postman-Token': \"6be29381-c68c-40f6-a10d-e63045691718\"\n",
    "        }\n",
    "\n",
    "    response = requests.request(\"GET\", url, headers=headers, params=querystring)\n",
    "\n",
    "    return json.loads(response.text)[\"data\"]\n",
    "\n",
    "def getFacultyUrl(data) : \n",
    "    \"\"\"\n",
    "    Return faculty name, url \n",
    "    Sample Argument : '<a href=\"department/AE/faculty/ae-ap\">Akshay Prakash</a>'\n",
    "    \"\"\"\n",
    "    BASE_URL = \"http://www.iitkgp.ac.in/\"\n",
    "    soup = bs(data)\n",
    "    tag = soup.find(\"a\")\n",
    "    name = tag.text\n",
    "    url = BASE_URL + tag[\"href\"]\n",
    "    return name, url\n",
    "\n",
    "\n",
    "def addFaculty(name, depCode, url, designation) : \n",
    "    data = Professor() \n",
    "    data.name = name\n",
    "    data.departmentCode = depCode\n",
    "    data.website = url\n",
    "    data.designation = designation \n",
    "    data.save()"
   ]
  },
  {
   "cell_type": "code",
   "execution_count": 38,
   "metadata": {},
   "outputs": [],
   "source": [
    "facList = getFacultyList()\n",
    "FacultyDepartmentDict = dict() #This dictionary keeps the mapping of dep code to department name of "
   ]
  },
  {
   "cell_type": "code",
   "execution_count": 41,
   "metadata": {},
   "outputs": [],
   "source": [
    "for faculty in facList : \n",
    "    name, url = getFacultyUrl(faculty[\"faculty\"])\n",
    "    FacultyDepartmentDict[faculty[\"dept_code\"]] = faculty[\"department\"]\n",
    "    addFaculty(name, faculty[\"dept_code\"], url, faculty[\"designation\"])"
   ]
  },
  {
   "cell_type": "code",
   "execution_count": null,
   "metadata": {},
   "outputs": [],
   "source": []
  },
  {
   "cell_type": "code",
   "execution_count": 2,
   "metadata": {},
   "outputs": [],
   "source": [
    "def addSubject(subCode, subName, credits) : \n",
    "    data = Subject()\n",
    "    data.code = subCode\n",
    "    data.name = subName \n",
    "    data.credits = credits\n",
    "    data.save()"
   ]
  },
  {
   "cell_type": "code",
   "execution_count": 5,
   "metadata": {},
   "outputs": [],
   "source": [
    "#Adding subjects\n",
    "with open(\"/Volumes/Data/CODE/test/rateMyProf/result.json\", \"r\") as f : \n",
    "    \"\"\"\n",
    "    Format : \n",
    "        'AE21001': ['INTRODUCTION TO AERODYNAMICS', '4'],\n",
    "        Sub_CODE : [SUB NAME, Credits]\n",
    "    \"\"\"\n",
    "    subjectList = json.loads(f.read())"
   ]
  },
  {
   "cell_type": "code",
   "execution_count": 6,
   "metadata": {},
   "outputs": [],
   "source": [
    "for subCode, li in subjectList.items() : \n",
    "    addSubject(subCode, li[0], int(li[1]))"
   ]
  },
  {
   "cell_type": "code",
   "execution_count": null,
   "metadata": {},
   "outputs": [],
   "source": []
  }
 ],
 "metadata": {
  "kernelspec": {
   "display_name": "Django Shell-Plus",
   "language": "python",
   "name": "django_extensions"
  },
  "language_info": {
   "codemirror_mode": {
    "name": "ipython",
    "version": 3
   },
   "file_extension": ".py",
   "mimetype": "text/x-python",
   "name": "python",
   "nbconvert_exporter": "python",
   "pygments_lexer": "ipython3",
   "version": "3.7.0"
  }
 },
 "nbformat": 4,
 "nbformat_minor": 2
}
